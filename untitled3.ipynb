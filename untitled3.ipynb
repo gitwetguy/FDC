{
 "cells": [
  {
   "cell_type": "markdown",
   "metadata": {},
   "source": [
    "# Data Info"
   ]
  },
  {
   "cell_type": "code",
   "execution_count": null,
   "metadata": {},
   "outputs": [],
   "source": [
    "import numpy as np\n",
    "import pandas as pd\n",
    "import re\n",
    "import matplotlib.pyplot as plt\n",
    "from sklearn.ensemble import (RandomForestClassifier, AdaBoostClassifier, GradientBoostingClassifier, ExtraTreesClassifier)\n",
    "from sklearn.svm import SVC \n",
    "from sklearn.model_selection import KFold\n",
    "\n",
    "train_data = pd.read_csv(\"train.csv\")\n",
    "test_data = pd.read_csv(\"test.csv\")\n",
    "sub = pd.read_csv(\"gender_submission.csv\")\n",
    "train_data.info()"
   ]
  },
  {
   "cell_type": "code",
   "execution_count": null,
   "metadata": {},
   "outputs": [],
   "source": [
    "train_data.describe()"
   ]
  },
  {
   "cell_type": "code",
   "execution_count": null,
   "metadata": {},
   "outputs": [],
   "source": [
    "test_data[\"PassengerId\"]"
   ]
  },
  {
   "cell_type": "code",
   "execution_count": null,
   "metadata": {},
   "outputs": [],
   "source": [
    "all_data = train_data.append(test_data)\n",
    "all_data.reset_index(inplace=True, drop=True)\n",
    "all_data"
   ]
  },
  {
   "cell_type": "markdown",
   "metadata": {},
   "source": [
    "# Data preprocess"
   ]
  },
  {
   "cell_type": "code",
   "execution_count": null,
   "metadata": {},
   "outputs": [],
   "source": [
    "all_data['Embarked'] = all_data['Embarked'].fillna('S')\n",
    "all_data['Fare'] = all_data['Fare'].fillna(all_data['Fare'].median())\n",
    "all_data['Age'] = all_data['Age'].fillna(all_data['Age'].median())\n",
    "all_data['Age'] = all_data['Age'].astype(int)\n"
   ]
  },
  {
   "cell_type": "code",
   "execution_count": null,
   "metadata": {},
   "outputs": [],
   "source": [
    "all_data"
   ]
  },
  {
   "cell_type": "code",
   "execution_count": null,
   "metadata": {},
   "outputs": [],
   "source": [
    "from sklearn.preprocessing import LabelEncoder\n",
    "\n",
    "all_data['Embarked'] = LabelEncoder().fit_transform(all_data['Embarked'])\n",
    "all_data['Sex'] = LabelEncoder().fit_transform(all_data['Sex'])\n"
   ]
  },
  {
   "cell_type": "code",
   "execution_count": null,
   "metadata": {},
   "outputs": [],
   "source": [
    "all_data['Cabin'] = all_data[\"Cabin\"].apply(lambda x: 0 if type(x) == float else 1)\n",
    "all_data"
   ]
  },
  {
   "cell_type": "code",
   "execution_count": null,
   "metadata": {},
   "outputs": [],
   "source": [
    "all_data = all_data.drop([\"Name\", \"Ticket\"], axis=1)\n",
    "all_data"
   ]
  },
  {
   "cell_type": "markdown",
   "metadata": {},
   "source": [
    "# Pearson Correlation"
   ]
  },
  {
   "cell_type": "code",
   "execution_count": null,
   "metadata": {},
   "outputs": [],
   "source": [
    "colormap = plt.cm.RdBu\n",
    "plt.figure(figsize = (14,12))\n",
    "plt.title('Pearson Correlation of Features')\n",
    "sns.heatmap(all_data.astype(float).corr(), linewidths = 0.1, vmax = 1.0, square = True, cmap = colormap, linecolor = 'white', annot = True)"
   ]
  },
  {
   "cell_type": "markdown",
   "metadata": {},
   "source": [
    "# Model Training"
   ]
  },
  {
   "cell_type": "code",
   "execution_count": null,
   "metadata": {},
   "outputs": [],
   "source": [
    "from sklearn.model_selection import train_test_split\n",
    "from sklearn.metrics import accuracy_score\n",
    "\n",
    "\n",
    "train = all_data[pd.notnull(all_data['Survived'])].sort_values(by=[\"PassengerId\"])\n",
    "test = all_data[~pd.notnull(all_data['Survived'])].sort_values(by=[\"PassengerId\"])\n",
    "\n",
    "label = train[\"Survived\"]\n",
    "data = train.drop([\"Survived\"],axis = 1)\n",
    "X_train, X_test, y_train, y_test = train_test_split(data, label, test_size=0.33, random_state=42)\n",
    "rf = RandomForestClassifier(n_estimators=1000, min_samples_split=2) \n",
    "rf.fit(X_train, y_train)\n",
    "y_predic = rf.predict(X_test)\n",
    "accuracy_score(y_test, y_predic)"
   ]